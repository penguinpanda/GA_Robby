{
 "cells": [
  {
   "cell_type": "markdown",
   "metadata": {},
   "source": [
    "# 遗传算法（GA），解决机器人捡罐子"
   ]
  },
  {
   "cell_type": "markdown",
   "metadata": {},
   "source": [
    "## 1.遗传算法"
   ]
  },
  {
   "cell_type": "markdown",
   "metadata": {},
   "source": [
    "## 2. 代码"
   ]
  },
  {
   "cell_type": "markdown",
   "metadata": {},
   "source": [
    "### 2.1 导入包 "
   ]
  },
  {
   "cell_type": "code",
   "execution_count": 1,
   "metadata": {},
   "outputs": [],
   "source": [
    "import time\n",
    "import random\n",
    "import pandas as pd\n",
    "import numpy as np\n",
    "import matplotlib.pyplot as plt\n",
    "from IPython.display import clear_output\n"
   ]
  },
  {
   "cell_type": "markdown",
   "metadata": {},
   "source": [
    "### 2.2 各个模块代码"
   ]
  },
  {
   "cell_type": "markdown",
   "metadata": {},
   "source": [
    "#### 2.2.1 生成初始种群"
   ]
  },
  {
   "cell_type": "code",
   "execution_count": 2,
   "metadata": {},
   "outputs": [],
   "source": [
    "def generate_initial_population(population_size, gene_length):\n",
    "    \"\"\"\n",
    "    生成初始种群。\n",
    "\n",
    "    参数：\n",
    "        population_size (int): 种群大小。\n",
    "        gene_length (int): 基因长度，即每个个体的基因长度。\n",
    "\n",
    "    返回值：\n",
    "        population (array): 二维数组，表示初始种群。每行代表一个个体的基因。\n",
    "                            其中每个基因都是长度为 gene_length 的整数数组。\n",
    "    \"\"\"\n",
    "    # 生成随机的整数数组作为初始种群\n",
    "    population = np.random.randint(0, 7, (population_size, gene_length))\n",
    "\n",
    "    return population\n"
   ]
  },
  {
   "cell_type": "markdown",
   "metadata": {},
   "source": [
    "#### 2.2.2 机器人的罐子世界及其行动方式"
   ]
  },
  {
   "cell_type": "markdown",
   "metadata": {},
   "source": [
    "##### 2.2.3 生成罐子\n",
    "每个格子有50%的概率有罐子，且每个格子只能有一个罐子。"
   ]
  },
  {
   "cell_type": "code",
   "execution_count": 3,
   "metadata": {},
   "outputs": [],
   "source": [
    "def generate_random_can_locations(probability, world_size):\n",
    "    \"\"\"\n",
    "    生成随机的垃圾位置。\n",
    "\n",
    "    参数：\n",
    "        probability (float): 生成垃圾的概率。\n",
    "        world_size (int): 世界的大小。\n",
    "\n",
    "    返回值：\n",
    "        can_locations (set of tuples): 垃圾位置的集合，其中每个元素是一个坐标元组。\n",
    "    \"\"\"\n",
    "    can_locations = set()  # 存储垃圾位置的集合\n",
    "\n",
    "    # 遍历整个世界的格子\n",
    "    for i in range(world_size):\n",
    "        for j in range(world_size):\n",
    "            # 根据给定的概率决定是否在当前格子放置垃圾\n",
    "            if np.random.rand() < probability:\n",
    "                can_locations.add((i, j))  # 将垃圾位置添加到集合中\n",
    "\n",
    "    return can_locations"
   ]
  },
  {
   "cell_type": "markdown",
   "metadata": {},
   "source": [
    "##### 2.2.4 模拟捡罐子任务\n",
    "0：向北走\n",
    "\n",
    "1：向南走\n",
    "\n",
    "2：向东走\n",
    "\n",
    "3：向西走\n",
    "\n",
    "4：不动\n",
    "\n",
    "5：捡起罐子\n",
    "\n",
    "6：随机移动\n"
   ]
  },
  {
   "cell_type": "markdown",
   "metadata": {},
   "source": [
    "##### 机器人当前状态"
   ]
  },
  {
   "cell_type": "code",
   "execution_count": 4,
   "metadata": {},
   "outputs": [],
   "source": [
    "\n",
    "def get_surroundings(position, can_locations, world_size):\n",
    "    \"\"\"\n",
    "    根据当前位置、可行位置和世界大小获取环境状态数组。\n",
    "\n",
    "    参数：\n",
    "        position (tuple): 当前位置的元组坐标。\n",
    "        can_locations (list of tuples): 可行位置的坐标列表。\n",
    "        world_size (int): 世界的大小。\n",
    "\n",
    "    返回值：\n",
    "        surroundings (array): 环境状态数组。\n",
    "            0 表示空格，1 表示有垃圾，-1 表示墙壁。\n",
    "            数组中的第一个元素表示当前格子，其余元素分别表示正东、正南、正西、正北格子。\n",
    "    \"\"\"\n",
    "    # 初始化环境状态数组，使用一维数组\n",
    "    surroundings = np.zeros(5, dtype=int)\n",
    "\n",
    "    # 检查当前格子是否有垃圾\n",
    "    if tuple(position) in can_locations:\n",
    "        surroundings[0] = 1  # 当前格子有垃圾\n",
    "\n",
    "    # 检查正东、正南、正西、正北格子是否有格子或墙\n",
    "    directions = [(0, 1), (1, 0), (0, -1), (-1, 0)]  # 正东、正南、正西、正北\n",
    "    for idx, (di, dj) in enumerate(directions):\n",
    "        ni, nj = position[0] + di, position[1] + dj\n",
    "        if (0 <= ni < world_size) and (0 <= nj < world_size):\n",
    "            if (ni, nj) in can_locations:\n",
    "                surroundings[idx + 1] = 1  # 东南西北格子有垃圾\n",
    "        else:\n",
    "            surroundings[idx + 1] = -1  # 东南西北格子是墙壁\n",
    "\n",
    "    return surroundings\n",
    "\n",
    "\n"
   ]
  },
  {
   "cell_type": "code",
   "execution_count": 5,
   "metadata": {},
   "outputs": [
    {
     "name": "stdout",
     "output_type": "stream",
     "text": [
      "{(-1, -1, -1, -1, -1): 0, (-1, 0, -1, -1, -1): 1, (-1, 1, -1, -1, -1): 2, (-1, -1, 0, -1, -1): 3, (-1, 0, 0, -1, -1): 4, (-1, 1, 0, -1, -1): 5, (-1, -1, 1, -1, -1): 6, (-1, 0, 1, -1, -1): 7, (-1, 1, 1, -1, -1): 8, (-1, -1, -1, 0, -1): 9, (-1, 0, -1, 0, -1): 10, (-1, 1, -1, 0, -1): 11, (-1, -1, 0, 0, -1): 12, (-1, 0, 0, 0, -1): 13, (-1, 1, 0, 0, -1): 14, (-1, -1, 1, 0, -1): 15, (-1, 0, 1, 0, -1): 16, (-1, 1, 1, 0, -1): 17, (-1, -1, -1, 1, -1): 18, (-1, 0, -1, 1, -1): 19, (-1, 1, -1, 1, -1): 20, (-1, -1, 0, 1, -1): 21, (-1, 0, 0, 1, -1): 22, (-1, 1, 0, 1, -1): 23, (-1, -1, 1, 1, -1): 24, (-1, 0, 1, 1, -1): 25, (-1, 1, 1, 1, -1): 26, (-1, -1, -1, -1, 0): 27, (-1, 0, -1, -1, 0): 28, (-1, 1, -1, -1, 0): 29, (-1, -1, 0, -1, 0): 30, (-1, 0, 0, -1, 0): 31, (-1, 1, 0, -1, 0): 32, (-1, -1, 1, -1, 0): 33, (-1, 0, 1, -1, 0): 34, (-1, 1, 1, -1, 0): 35, (-1, -1, -1, 0, 0): 36, (-1, 0, -1, 0, 0): 37, (-1, 1, -1, 0, 0): 38, (-1, -1, 0, 0, 0): 39, (-1, 0, 0, 0, 0): 40, (-1, 1, 0, 0, 0): 41, (-1, -1, 1, 0, 0): 42, (-1, 0, 1, 0, 0): 43, (-1, 1, 1, 0, 0): 44, (-1, -1, -1, 1, 0): 45, (-1, 0, -1, 1, 0): 46, (-1, 1, -1, 1, 0): 47, (-1, -1, 0, 1, 0): 48, (-1, 0, 0, 1, 0): 49, (-1, 1, 0, 1, 0): 50, (-1, -1, 1, 1, 0): 51, (-1, 0, 1, 1, 0): 52, (-1, 1, 1, 1, 0): 53, (-1, -1, -1, -1, 1): 54, (-1, 0, -1, -1, 1): 55, (-1, 1, -1, -1, 1): 56, (-1, -1, 0, -1, 1): 57, (-1, 0, 0, -1, 1): 58, (-1, 1, 0, -1, 1): 59, (-1, -1, 1, -1, 1): 60, (-1, 0, 1, -1, 1): 61, (-1, 1, 1, -1, 1): 62, (-1, -1, -1, 0, 1): 63, (-1, 0, -1, 0, 1): 64, (-1, 1, -1, 0, 1): 65, (-1, -1, 0, 0, 1): 66, (-1, 0, 0, 0, 1): 67, (-1, 1, 0, 0, 1): 68, (-1, -1, 1, 0, 1): 69, (-1, 0, 1, 0, 1): 70, (-1, 1, 1, 0, 1): 71, (-1, -1, -1, 1, 1): 72, (-1, 0, -1, 1, 1): 73, (-1, 1, -1, 1, 1): 74, (-1, -1, 0, 1, 1): 75, (-1, 0, 0, 1, 1): 76, (-1, 1, 0, 1, 1): 77, (-1, -1, 1, 1, 1): 78, (-1, 0, 1, 1, 1): 79, (-1, 1, 1, 1, 1): 80, (0, -1, -1, -1, -1): 81, (0, 0, -1, -1, -1): 82, (0, 1, -1, -1, -1): 83, (0, -1, 0, -1, -1): 84, (0, 0, 0, -1, -1): 85, (0, 1, 0, -1, -1): 86, (0, -1, 1, -1, -1): 87, (0, 0, 1, -1, -1): 88, (0, 1, 1, -1, -1): 89, (0, -1, -1, 0, -1): 90, (0, 0, -1, 0, -1): 91, (0, 1, -1, 0, -1): 92, (0, -1, 0, 0, -1): 93, (0, 0, 0, 0, -1): 94, (0, 1, 0, 0, -1): 95, (0, -1, 1, 0, -1): 96, (0, 0, 1, 0, -1): 97, (0, 1, 1, 0, -1): 98, (0, -1, -1, 1, -1): 99, (0, 0, -1, 1, -1): 100, (0, 1, -1, 1, -1): 101, (0, -1, 0, 1, -1): 102, (0, 0, 0, 1, -1): 103, (0, 1, 0, 1, -1): 104, (0, -1, 1, 1, -1): 105, (0, 0, 1, 1, -1): 106, (0, 1, 1, 1, -1): 107, (0, -1, -1, -1, 0): 108, (0, 0, -1, -1, 0): 109, (0, 1, -1, -1, 0): 110, (0, -1, 0, -1, 0): 111, (0, 0, 0, -1, 0): 112, (0, 1, 0, -1, 0): 113, (0, -1, 1, -1, 0): 114, (0, 0, 1, -1, 0): 115, (0, 1, 1, -1, 0): 116, (0, -1, -1, 0, 0): 117, (0, 0, -1, 0, 0): 118, (0, 1, -1, 0, 0): 119, (0, -1, 0, 0, 0): 120, (0, 0, 0, 0, 0): 121, (0, 1, 0, 0, 0): 122, (0, -1, 1, 0, 0): 123, (0, 0, 1, 0, 0): 124, (0, 1, 1, 0, 0): 125, (0, -1, -1, 1, 0): 126, (0, 0, -1, 1, 0): 127, (0, 1, -1, 1, 0): 128, (0, -1, 0, 1, 0): 129, (0, 0, 0, 1, 0): 130, (0, 1, 0, 1, 0): 131, (0, -1, 1, 1, 0): 132, (0, 0, 1, 1, 0): 133, (0, 1, 1, 1, 0): 134, (0, -1, -1, -1, 1): 135, (0, 0, -1, -1, 1): 136, (0, 1, -1, -1, 1): 137, (0, -1, 0, -1, 1): 138, (0, 0, 0, -1, 1): 139, (0, 1, 0, -1, 1): 140, (0, -1, 1, -1, 1): 141, (0, 0, 1, -1, 1): 142, (0, 1, 1, -1, 1): 143, (0, -1, -1, 0, 1): 144, (0, 0, -1, 0, 1): 145, (0, 1, -1, 0, 1): 146, (0, -1, 0, 0, 1): 147, (0, 0, 0, 0, 1): 148, (0, 1, 0, 0, 1): 149, (0, -1, 1, 0, 1): 150, (0, 0, 1, 0, 1): 151, (0, 1, 1, 0, 1): 152, (0, -1, -1, 1, 1): 153, (0, 0, -1, 1, 1): 154, (0, 1, -1, 1, 1): 155, (0, -1, 0, 1, 1): 156, (0, 0, 0, 1, 1): 157, (0, 1, 0, 1, 1): 158, (0, -1, 1, 1, 1): 159, (0, 0, 1, 1, 1): 160, (0, 1, 1, 1, 1): 161, (1, -1, -1, -1, -1): 162, (1, 0, -1, -1, -1): 163, (1, 1, -1, -1, -1): 164, (1, -1, 0, -1, -1): 165, (1, 0, 0, -1, -1): 166, (1, 1, 0, -1, -1): 167, (1, -1, 1, -1, -1): 168, (1, 0, 1, -1, -1): 169, (1, 1, 1, -1, -1): 170, (1, -1, -1, 0, -1): 171, (1, 0, -1, 0, -1): 172, (1, 1, -1, 0, -1): 173, (1, -1, 0, 0, -1): 174, (1, 0, 0, 0, -1): 175, (1, 1, 0, 0, -1): 176, (1, -1, 1, 0, -1): 177, (1, 0, 1, 0, -1): 178, (1, 1, 1, 0, -1): 179, (1, -1, -1, 1, -1): 180, (1, 0, -1, 1, -1): 181, (1, 1, -1, 1, -1): 182, (1, -1, 0, 1, -1): 183, (1, 0, 0, 1, -1): 184, (1, 1, 0, 1, -1): 185, (1, -1, 1, 1, -1): 186, (1, 0, 1, 1, -1): 187, (1, 1, 1, 1, -1): 188, (1, -1, -1, -1, 0): 189, (1, 0, -1, -1, 0): 190, (1, 1, -1, -1, 0): 191, (1, -1, 0, -1, 0): 192, (1, 0, 0, -1, 0): 193, (1, 1, 0, -1, 0): 194, (1, -1, 1, -1, 0): 195, (1, 0, 1, -1, 0): 196, (1, 1, 1, -1, 0): 197, (1, -1, -1, 0, 0): 198, (1, 0, -1, 0, 0): 199, (1, 1, -1, 0, 0): 200, (1, -1, 0, 0, 0): 201, (1, 0, 0, 0, 0): 202, (1, 1, 0, 0, 0): 203, (1, -1, 1, 0, 0): 204, (1, 0, 1, 0, 0): 205, (1, 1, 1, 0, 0): 206, (1, -1, -1, 1, 0): 207, (1, 0, -1, 1, 0): 208, (1, 1, -1, 1, 0): 209, (1, -1, 0, 1, 0): 210, (1, 0, 0, 1, 0): 211, (1, 1, 0, 1, 0): 212, (1, -1, 1, 1, 0): 213, (1, 0, 1, 1, 0): 214, (1, 1, 1, 1, 0): 215, (1, -1, -1, -1, 1): 216, (1, 0, -1, -1, 1): 217, (1, 1, -1, -1, 1): 218, (1, -1, 0, -1, 1): 219, (1, 0, 0, -1, 1): 220, (1, 1, 0, -1, 1): 221, (1, -1, 1, -1, 1): 222, (1, 0, 1, -1, 1): 223, (1, 1, 1, -1, 1): 224, (1, -1, -1, 0, 1): 225, (1, 0, -1, 0, 1): 226, (1, 1, -1, 0, 1): 227, (1, -1, 0, 0, 1): 228, (1, 0, 0, 0, 1): 229, (1, 1, 0, 0, 1): 230, (1, -1, 1, 0, 1): 231, (1, 0, 1, 0, 1): 232, (1, 1, 1, 0, 1): 233, (1, -1, -1, 1, 1): 234, (1, 0, -1, 1, 1): 235, (1, 1, -1, 1, 1): 236, (1, -1, 0, 1, 1): 237, (1, 0, 0, 1, 1): 238, (1, 1, 0, 1, 1): 239, (1, -1, 1, 1, 1): 240, (1, 0, 1, 1, 1): 241, (1, 1, 1, 1, 1): 242}\n"
     ]
    }
   ],
   "source": [
    "# 找到所有可能的情况\n",
    "situations = []\n",
    "for center in [-1, 0, 1]:\n",
    "    for north in [-1, 0, 1]:\n",
    "        for south in [-1, 0, 1]:\n",
    "            for west in [-1, 0, 1]:\n",
    "                for east in [-1, 0, 1]:\n",
    "                    situations.append(np.array([center, east, west, south, north]))\n",
    "\n",
    "# 生成字典以查找情况的基因索引\n",
    "situ_dict = {}\n",
    "for idx, situation in enumerate(situations):\n",
    "    situ_dict[tuple(situation)] = idx\n",
    "\n",
    "# 打印生成的字典\n",
    "print(situ_dict)\n"
   ]
  },
  {
   "cell_type": "code",
   "execution_count": 6,
   "metadata": {},
   "outputs": [],
   "source": [
    "def get_action(now_surrounding, individual):\n",
    "    \"\"\"\n",
    "    根据当前环境状态和个体基因获取动作。\n",
    "\n",
    "    参数：\n",
    "        now_surrounding (array): 当前环境状态的数组。\n",
    "        individual (array): 个体的基因数组。\n",
    "\n",
    "    返回值：\n",
    "        action: 根据个体基因和环境状态获取的动作。\n",
    "    \"\"\"\n",
    "    # 根据当前环境状态查找基因索引\n",
    "    gene_idx = situ_dict[tuple(now_surrounding)]\n",
    "    # 获取对应基因的动作\n",
    "    action = individual[gene_idx]\n",
    "    return action\n"
   ]
  },
  {
   "cell_type": "code",
   "execution_count": 7,
   "metadata": {},
   "outputs": [],
   "source": [
    "def simulate_cleaning_task(individual, probability, world_size):\n",
    "    \"\"\"\n",
    "    模拟清扫任务，并返回得分\n",
    "    :param individual: 个体策略\n",
    "    :param probability: 垃圾出现的概率\n",
    "    :param world_size: 世界的大小\n",
    "    :return: 清扫得分\n",
    "    \"\"\"\n",
    "    robot_position = np.array([np.random.randint(1, world_size + 1), np.random.randint(1, world_size + 1)])\n",
    "\n",
    "    score = 0\n",
    "    moves_left = 200\n",
    "    can_locations = generate_random_can_locations(probability, world_size)\n",
    "\n",
    "    for _ in range(moves_left):\n",
    "        new_position = robot_position\n",
    "        now_surrounding = get_surroundings(new_position, can_locations, world_size)\n",
    "        action = get_action(now_surrounding, individual)\n",
    "        if action == 0:\n",
    "            new_position, score = move_north(robot_position, world_size, score)\n",
    "        if action == 1:\n",
    "            new_position, score = move_south(robot_position, world_size, score)\n",
    "        if action == 2:\n",
    "            new_position, score = move_east(robot_position, world_size, score)\n",
    "        if action == 3:\n",
    "            new_position, score = move_west(robot_position, world_size, score)\n",
    "        if action == 4:\n",
    "            pass\n",
    "        if action == 5:\n",
    "            score = pick_can(robot_position, can_locations, score)\n",
    "        if action == 6:\n",
    "            new_position, score = move_random(robot_position, world_size, score)\n",
    "\n",
    "        robot_position = new_position\n",
    "        \n",
    "        moves_left -= 1\n",
    "        if moves_left <= 0:\n",
    "            break\n",
    "    \n",
    "    return score\n",
    "\n",
    "    \n",
    "def move_north(position, world_size, score):\n",
    "    \"\"\"\n",
    "    向北移动\n",
    "    \"\"\"\n",
    "    new_position = np.array([position[0] - 1, position[1]])\n",
    "    if 0 <= new_position[0] <= world_size:\n",
    "        return new_position, score\n",
    "    else:\n",
    "        return position, score - 5\n",
    "\n",
    "def move_south(position, world_size, score):\n",
    "    \"\"\"\n",
    "    向南移动\n",
    "    \"\"\"\n",
    "    new_position = np.array([position[0] + 1, position[1]])\n",
    "    if 0 <= new_position[0] <= world_size:\n",
    "        return new_position, score\n",
    "    else:\n",
    "        return position, score - 5\n",
    "\n",
    "def move_east(position, world_size, score):\n",
    "    \"\"\"\n",
    "    向东移动\n",
    "    \"\"\"\n",
    "    new_position = np.array([position[0], position[1] + 1])\n",
    "    if 0 <= new_position[1] <= world_size:\n",
    "        return new_position, score\n",
    "    else:\n",
    "        return position, score - 5\n",
    "\n",
    "def move_west(position, world_size, score):\n",
    "    \"\"\"\n",
    "    向西移动\n",
    "    \"\"\"\n",
    "    new_position = np.array([position[0], position[1] - 1])\n",
    "    if 0 <= new_position[1] <= world_size:\n",
    "        return new_position, score\n",
    "    else:\n",
    "        return position, score - 5\n",
    "\n",
    "def pick_can(position, can_locations, score):\n",
    "    \"\"\"\n",
    "    清理垃圾\n",
    "    \"\"\"\n",
    "    if tuple(position) in can_locations:\n",
    "        can_locations.remove(tuple(position))\n",
    "        return score + 10\n",
    "    else:\n",
    "        return score - 1\n",
    "\n",
    "def move_random(position, world_size, score):\n",
    "    \"\"\"\n",
    "    随机移动\n",
    "    \"\"\"\n",
    "    return random.choice([move_north, move_south, move_east, move_west])(position, world_size, score)"
   ]
  },
  {
   "cell_type": "markdown",
   "metadata": {},
   "source": [
    "### 2.3 算法核心"
   ]
  },
  {
   "cell_type": "markdown",
   "metadata": {},
   "source": [
    "#### 2.3.1 评估适应度"
   ]
  },
  {
   "cell_type": "code",
   "execution_count": 8,
   "metadata": {},
   "outputs": [],
   "source": [
    "def evaluate_population(population):\n",
    "    \"\"\"\n",
    "    计算群体中每个个体的适应度得分\n",
    "\n",
    "    参数：\n",
    "    - population: 一个包含所有个体的列表，每个个体是一个基因序列（策略）\n",
    "\n",
    "    返回值：\n",
    "    返回一个包含每个个体适应度得分的列表。\n",
    "    \"\"\"\n",
    "    fitness_scores = []\n",
    "    for individual in population:\n",
    "        total_score = 0\n",
    "        for _ in range(100):  # 执行100次清扫任务\n",
    "            score = simulate_cleaning_task(individual,probability=0.5, world_size=10)\n",
    "            total_score += score\n",
    "        average_score = total_score / 100  # 计算平均得分\n",
    "        fitness_scores.append(average_score)\n",
    "    return fitness_scores"
   ]
  },
  {
   "cell_type": "markdown",
   "metadata": {},
   "source": [
    "#### 2.3.2 选择父代个体\n"
   ]
  },
  {
   "cell_type": "code",
   "execution_count": 9,
   "metadata": {},
   "outputs": [],
   "source": [
    "def normalize_fitness_scores(scores):\n",
    "    \"\"\"\n",
    "    将适应度分数归一化。\n",
    "\n",
    "    参数：\n",
    "        scores (list or array): 适应度分数列表或数组。\n",
    "\n",
    "    返回值：\n",
    "        normalized_scores (array): 归一化的适应度分数数组。\n",
    "    \"\"\"\n",
    "    # 将分数转换为 NumPy 数组\n",
    "    scores_array = np.array(scores)\n",
    "    # 平方适应度分数\n",
    "    squared_scores = scores_array ** 2\n",
    "    \n",
    "    # 归一化适应度分数\n",
    "    total_score = np.sum(squared_scores)\n",
    "    normalized_scores = squared_scores / total_score\n",
    "    \n",
    "    return normalized_scores\n"
   ]
  },
  {
   "cell_type": "code",
   "execution_count": 10,
   "metadata": {},
   "outputs": [],
   "source": [
    "def select_parents(population, fitness_scores, num_parents):\n",
    "    \"\"\"\n",
    "    选择父母个体\n",
    "    :param population: 当前种群\n",
    "    :param fitness_scores: 每个个体的适应度评分\n",
    "    :param num_parents: 选择的父母个数\n",
    "    :return: 选中的父母个体列表\n",
    "    \"\"\"\n",
    "    fitness_exponent = np.exp(fitness_scores)\n",
    "    selection_probabilities = fitness_exponent / np.sum(fitness_exponent)\n",
    "    parent_indices = np.random.choice(len(population), size=num_parents, p=selection_probabilities, replace=False)\n",
    "    return [population[idx] for idx in parent_indices]"
   ]
  },
  {
   "cell_type": "markdown",
   "metadata": {},
   "source": [
    "#### 2.3.3 生成子代个体"
   ]
  },
  {
   "cell_type": "code",
   "execution_count": 11,
   "metadata": {},
   "outputs": [],
   "source": [
    "def crossover(parents):\n",
    "    \"\"\"\n",
    "    交叉操作\n",
    "    :param parents: 选中的父母个体列表\n",
    "    :return: 生成的子代个体列表\n",
    "    \"\"\"\n",
    "    np.random.shuffle(parents)  # 随机打乱父母的顺序\n",
    "    children = []\n",
    "    for i in range(0, len(parents), 2):\n",
    "        parent1 = parents[i]\n",
    "        parent2 = parents[i + 1]\n",
    "        crossover_point = np.random.randint(1, len(parent1))  # 随机选择一个交叉点\n",
    "        child1 = np.concatenate((parent1[:crossover_point], parent2[crossover_point:]))\n",
    "        child2 = np.concatenate((parent2[:crossover_point], parent1[crossover_point:]))\n",
    "        children.append(child1)\n",
    "        children.append(child2)\n",
    "    return children"
   ]
  },
  {
   "cell_type": "markdown",
   "metadata": {},
   "source": [
    "#### 2.3.4 基因突变"
   ]
  },
  {
   "cell_type": "code",
   "execution_count": 12,
   "metadata": {},
   "outputs": [],
   "source": [
    "def mutate(child, mutation_rate):\n",
    "    \"\"\"\n",
    "    变异操作\n",
    "    :param child: 子代个体\n",
    "    :param mutation_rate: 突变率\n",
    "    :return: 变异后的子代个体\n",
    "    \"\"\"\n",
    "    for i in range(len(child)):\n",
    "        if np.random.random() < mutation_rate:\n",
    "            child[i] = np.random.randint(0, 7)\n",
    "    return child"
   ]
  },
  {
   "cell_type": "markdown",
   "metadata": {},
   "source": [
    "#### 2.3.5 将子代个体添加到新群体中"
   ]
  },
  {
   "cell_type": "code",
   "execution_count": 13,
   "metadata": {},
   "outputs": [],
   "source": [
    "def add_offspring_to_population(population, offspring):\n",
    "    \"\"\"\n",
    "    将子代个体添加到种群中\n",
    "    :param population: 当前种群\n",
    "    :param offspring: 子代个体列表\n",
    "    \"\"\"\n",
    "    population.extend(offspring)"
   ]
  },
  {
   "cell_type": "markdown",
   "metadata": {},
   "source": [
    "#### 2.3.6 进化函数"
   ]
  },
  {
   "cell_type": "code",
   "execution_count": 14,
   "metadata": {},
   "outputs": [],
   "source": [
    "# 进化函数\n",
    "def evolve(population, fitness_scores, mutation_rate, population_size, num_parents):\n",
    "    \"\"\"\n",
    "    进化函数\n",
    "    :param population: 当前种群\n",
    "    :param fitness_scores: 每个个体的适应度评分\n",
    "    :param mutation_rate: 突变率\n",
    "    :param population_size: 种群大小\n",
    "    :param num_parents: 选择的父母个数\n",
    "    :return: 新一代种群\n",
    "    \"\"\"\n",
    "    new_population = []\n",
    "    while len(new_population) < population_size:\n",
    "        parents = select_parents(population, fitness_scores, num_parents)\n",
    "        offspring = crossover(parents)\n",
    "        offspring = [mutate(child, mutation_rate) for child in offspring]\n",
    "        add_offspring_to_population(new_population, offspring)\n",
    "    return np.array(new_population)"
   ]
  },
  {
   "cell_type": "markdown",
   "metadata": {},
   "source": [
    "### 2.4 训练"
   ]
  },
  {
   "cell_type": "markdown",
   "metadata": {},
   "source": [
    "#### 2.4.1 训练过程可视化"
   ]
  },
  {
   "cell_type": "code",
   "execution_count": 15,
   "metadata": {},
   "outputs": [],
   "source": [
    "def plot_fitness_evolution(best_fitnesses, average_fitnesses, fig=None, ax=None):\n",
    "    \"\"\"\n",
    "    绘制适应度的演变图表\n",
    "\n",
    "    参数:\n",
    "    best_fitnesses (list): 包含每次迭代的最好适应度值的列表\n",
    "    average_fitnesses (list): 包含每次迭代的平均适应度值的列表\n",
    "    fig (matplotlib.figure.Figure, optional): 图形对象，默认为 None\n",
    "    ax (matplotlib.axes.Axes, optional): 坐标轴对象，默认为 None\n",
    "\n",
    "    返回:\n",
    "    fig (matplotlib.figure.Figure): 更新后的图形对象\n",
    "    ax (matplotlib.axes.Axes): 更新后的坐标轴对象\n",
    "    \"\"\"\n",
    "    # 创建图形和坐标轴对象\n",
    "    if fig is None or ax is None:\n",
    "        fig, ax = plt.subplots()\n",
    "        ax.set_xlabel('Iteration')\n",
    "        ax.set_ylabel('Fitness')\n",
    "        ax.set_title('Fitness Evolution')\n",
    "        ax.legend(['Best Fitness', 'Average Fitness'])\n",
    "\n",
    "    # 绘制适应度变化图表\n",
    "    ax.plot(range(1, len(best_fitnesses) + 1), best_fitnesses, label='Best Fitness')\n",
    "    ax.plot(range(1, len(average_fitnesses) + 1), average_fitnesses, label='Average Fitness')\n",
    "    ax.legend()\n",
    "\n",
    "    # 更新图表\n",
    "    plt.draw()\n",
    "    plt.pause(0.01)  # 暂停一小段时间以便更新图表\n",
    "    return fig, ax"
   ]
  },
  {
   "cell_type": "markdown",
   "metadata": {},
   "source": [
    "#### 2.4.2 训练参数"
   ]
  },
  {
   "cell_type": "code",
   "execution_count": 16,
   "metadata": {},
   "outputs": [],
   "source": [
    "# Parameters\n",
    "population_size = 200\n",
    "gene_length = 243\n",
    "num_iterations = 1200\n",
    "mutation_rate = 0.01\n",
    "num_parents = 50"
   ]
  },
  {
   "cell_type": "markdown",
   "metadata": {},
   "source": [
    "#### 2.4.3 训练过程"
   ]
  },
  {
   "cell_type": "code",
   "execution_count": 17,
   "metadata": {},
   "outputs": [
    {
     "name": "stdout",
     "output_type": "stream",
     "text": [
      "Iteration 1200, Best_fitness: 495.7, Time: 11.32 seconds,Total training time: 13729.52 seconds\n"
     ]
    },
    {
     "data": {
      "image/png": "[encoded data removed]",
      "text/plain": [
       "<Figure size 640x480 with 1 Axes>"
      ]
     },
     "metadata": {},
     "output_type": "display_data"
    },
    {
     "name": "stdout",
     "output_type": "stream",
     "text": [
      "Best individuals and their fitnesses are saved to best_individuals.csv\n"
     ]
    }
   ],
   "source": [
    "# 定义 CSV 文件名\n",
    "csv_filename = \"best_individuals.csv\"\n",
    "\n",
    "# 生成初始种群\n",
    "population = generate_initial_population(population_size, gene_length)\n",
    "total_time = 0\n",
    "# 用于存储最好的适应度和平均适应度\n",
    "best_fitnesses = []\n",
    "average_fitnesses = []\n",
    "best_individuals = []  # 存储每次迭代的最佳个体\n",
    "best_individual_fitnesses = []  # 存储每次迭代的最佳个体的适应度\n",
    "\n",
    "for i in range(num_iterations):\n",
    "    # 开始计时\n",
    "    start_time = time.time()\n",
    "    # 计算群体中每个个体的适应度\n",
    "    fitness_scores = evaluate_population(population)\n",
    "    best_fitness = np.max(fitness_scores)\n",
    "    average_fitness = np.mean(fitness_scores)\n",
    "    # 进化产生下一代群体\n",
    "    population = evolve(population, fitness_scores, mutation_rate, population_size, num_parents)\n",
    "\n",
    "    # 记录并显示最好的适应度和平均适应度\n",
    "    best_fitnesses.append(best_fitness)\n",
    "    average_fitnesses.append(average_fitness)\n",
    "\n",
    "    # 更新最好的个体及其适应度\n",
    "    best_individual_index = np.argmax(fitness_scores)\n",
    "    best_individual = population[best_individual_index]\n",
    "    best_individual_fitness = best_fitness\n",
    "\n",
    "    # 保存最佳个体和适应度\n",
    "    best_individuals.append(best_individual)\n",
    "    best_individual_fitnesses.append(best_individual_fitness)\n",
    "\n",
    "    clear_output(wait=True)\n",
    "    # 结束计时并计算一次训练的时间\n",
    "    end_time = time.time()\n",
    "    training_time = end_time - start_time\n",
    "    # 累加到总训练时间中\n",
    "    total_time += training_time\n",
    "    print(f\"Iteration {i+1}, Best_fitness: {best_fitness}, Time: {training_time:.2f} seconds,Total training time: {total_time:.2f} seconds\")\n",
    "    # 绘制适应度演变图表\n",
    "    fig, ax = plot_fitness_evolution(best_fitnesses, average_fitnesses)   \n",
    "\n",
    "# 创建 DataFrame 存储最佳个体和适应度\n",
    "df = pd.DataFrame({\"Iteration\": range(1, num_iterations + 1),\n",
    "                   \"Best_individual\": [','.join(map(str, individual)) for individual in best_individuals],\n",
    "                   \"Fitness\": best_individual_fitnesses})\n",
    "\n",
    "# 将 DataFrame 写入 CSV 文件\n",
    "df.to_csv(csv_filename, index=False)\n",
    "\n",
    "# 输出完成消息\n",
    "print(f\"Best individuals and their fitnesses are saved to {csv_filename}\")\n"
   ]
  },
  {
   "cell_type": "markdown",
   "metadata": {},
   "source": [
    "## 3. 评估"
   ]
  },
  {
   "cell_type": "markdown",
   "metadata": {},
   "source": [
    "### 3.1 可视化观察机器人捡罐子"
   ]
  },
  {
   "cell_type": "code",
   "execution_count": 19,
   "metadata": {},
   "outputs": [],
   "source": [
    "def plot_locations(new_position, can_locations, world_size):\n",
    "    grid = np.zeros((world_size, world_size))\n",
    "    can_num = 0\n",
    "    robot_position = new_position\n",
    "\n",
    "    for pos in can_locations:\n",
    "        grid[pos[0], pos[1]] = 1\n",
    "        can_num += 1\n",
    "    \n",
    "    plt.scatter(robot_position[1], robot_position[0], color='red', marker='o', label='Robot')\n",
    "    plt.imshow(grid, cmap='gray_r', interpolation='nearest')\n",
    "    # plt.grid(True, color='black', linewidth=1)\n",
    "    plt.title(\"Number of cans: \" + str(can_num))\n",
    "    plt.xlabel(\"x\")\n",
    "    plt.ylabel(\"y\")\n",
    "    plt.show()"
   ]
  },
  {
   "cell_type": "code",
   "execution_count": 20,
   "metadata": {},
   "outputs": [],
   "source": [
    "def visualize_simulate_cleaning_task(individual, probability, world_size):\n",
    "    \"\"\"\n",
    "    模拟清扫任务，并返回得分\n",
    "    :param individual: 个体策略\n",
    "    :param probability: 垃圾出现的概率\n",
    "    :param world_size: 世界的大小\n",
    "    :return: 清扫得分\n",
    "    \"\"\"\n",
    "    robot_position = np.array([0, 1])\n",
    "\n",
    "    score = 0\n",
    "    moves_left = 200\n",
    "    can_locations = generate_random_can_locations(probability, world_size)\n",
    "    # can_locations = generate_fixed_can_locations(world_size)\n",
    "\n",
    "    for _ in range(moves_left):\n",
    "        new_position = robot_position\n",
    "        clear_output(wait=True)\n",
    "        plot_locations(new_position, can_locations, world_size)\n",
    "        now_surrounding = get_surroundings(new_position, can_locations, world_size)\n",
    "        action = get_action(now_surrounding, individual)\n",
    "        if action == 0:\n",
    "            new_position, score = move_north(robot_position, world_size, score)\n",
    "        if action == 1:\n",
    "            new_position, score = move_south(robot_position, world_size, score)\n",
    "        if action == 2:\n",
    "            new_position, score = move_east(robot_position, world_size, score)\n",
    "        if action == 3:\n",
    "            new_position, score = move_west(robot_position, world_size, score)\n",
    "        if action == 4:\n",
    "            pass\n",
    "        if action == 5:\n",
    "            score = pick_can(robot_position, can_locations, score)\n",
    "        if action == 6:\n",
    "            new_position, score = move_random(robot_position, world_size, score)\n",
    "\n",
    "        robot_position = new_position\n",
    "        moves_left -= 1\n",
    "        if moves_left <= 0:\n",
    "            break\n",
    "    \n",
    "    return score\n"
   ]
  },
  {
   "cell_type": "code",
   "execution_count": 30,
   "metadata": {},
   "outputs": [
    {
     "data": {
      "image/png": "[encoded data removed]",
      "text/plain": [
       "<Figure size 640x480 with 1 Axes>"
      ]
     },
     "metadata": {},
     "output_type": "display_data"
    },
    {
     "data": {
      "text/plain": [
       "540"
      ]
     },
     "execution_count": 30,
     "metadata": {},
     "output_type": "execute_result"
    }
   ],
   "source": [
    "# 使用示例\n",
    "best_individual_use = [0,3,6,5,2,6,5,0,3,0,3,6,6,3,6,2,3,3,0,2,2,4,6,2,6,5,1,2,1,4,1,4,1,4,0,3,2,5,3,1,3,6,2,5,2,1,4,2,3,3,6,5,2,6,3,2,1,3,4,5,3,3,4,4,0,2,2,1,4,3,2,2,0,3,0,0,6,1,6,3,1,3,4,2,3,1,2,2,1,5,1,0,4,3,3,2,4,1,1,1,0,0,2,3,2,6,1,4,0,2,2,1,1,2,1,1,2,0,2,2,3,0,2,1,1,1,6,2,0,3,3,2,6,0,3,0,0,0,2,2,3,6,3,2,0,0,2,0,0,2,1,0,2,0,0,2,3,3,2,6,1,0,1,3,4,2,5,5,6,5,2,0,4,0,5,5,5,6,1,6,6,5,5,3,5,5,3,5,4,6,5,5,3,5,5,0,5,5,5,5,5,5,5,5,1,1,1,3,5,3,5,5,5,2,1,1,2,5,1,5,5,3,4,0,2,5,5,5,5,5,5,6,1,1,3,5,5,3,5,5,5,1,1]\n",
    "probability = 0.5\n",
    "world_size = 10\n",
    "visualize_simulate_cleaning_task(best_individual_use, probability, world_size)"
   ]
  },
  {
   "cell_type": "markdown",
   "metadata": {},
   "source": [
    "### 3.2 测试代码"
   ]
  },
  {
   "cell_type": "code",
   "execution_count": null,
   "metadata": {},
   "outputs": [],
   "source": [
    "# probability = 0.5\n",
    "# world_size = 10\n",
    "# robot_position = np.array([0, 0])  # 机器人初始位置\n",
    "# can_locations = generate_random_can_locations(probability, world_size)\n",
    "# # can_locations = generate_fixed_can_locations(world_size)\n",
    "# plot_locations(robot_position, can_locations, world_size)\n",
    "\n",
    "# print(can_locations)"
   ]
  },
  {
   "cell_type": "code",
   "execution_count": null,
   "metadata": {},
   "outputs": [],
   "source": [
    "# now_surrounding = get_surroundings(robot_position, can_locations, 10)\n",
    "\n",
    "# print(now_surrounding)"
   ]
  },
  {
   "cell_type": "code",
   "execution_count": null,
   "metadata": {},
   "outputs": [],
   "source": [
    "# individual = [6, 5, 6, 3, 5, 3, 6, 5, 6, 2, 5, 2, 3, 5, 3, 2, 5, 2, 6, 5, 6, 3, 5, 3, 6, 5, 6, 1, 5, 1, 3, 5, 3, 1, 5, 1, 2, 5, 2, 3, 5, 3, 2, 5, 2, 1, 5, 1, 3, 5, 3, 1, 5, 1, 6, 5, 6, 3, 5, 3, 6, 5, 6, 2, 5, 2, 3, 5, 3, 2, 5, 2, 6, 5, 6, 3, 5, 3, 6, 5, 6, 0, 5, 0, 3, 5, 3, 0, 5, 0, 2, 5, 2, 3, 5, 3, 2, 5, 2, 0, 5, 0, 3, 5, 3, 0, 5, 0, 1, 5, 1, 3, 5, 3, 1, 5, 1, 2, 5, 2, 3, 5, 3, 2, 5, 2, 1, 5, 1, 3, 5, 3, 1, 5, 1, 0, 5, 0, 3, 5, 3, 0, 5, 0, 2, 5, 2, 3, 5, 3, 2, 5, 2, 0, 5, 0, 3, 5, 3, 0, 5, 0, 6, 5, 6, 3, 5, 3, 5, 6, 2, 5, 2, 3, 5, 3, 2, 5, 2, 6, 5, 6, 3, 5, 3, 6, 5, 6, 1, 5, 1, 3, 5, 3, 1, 5, 1, 2, 5, 2, 3, 5, 3, 2, 5, 2, 1, 5, 1, 3, 5, 3, 1, 5, 1, 6, 5, 6, 3, 5, 3, 6, 5, 6, 2, 5, 2, 3, 5, 3, 2, 5, 2, 6, 5, 6, 3, 5, 3, 4, 5, 4]\n",
    "# print(get_action(now_surrounding, individual))\n",
    "# print(individual[105])"
   ]
  },
  {
   "cell_type": "code",
   "execution_count": null,
   "metadata": {},
   "outputs": [],
   "source": [
    "# # 测试\n",
    "# population_size = 200\n",
    "# gene_length = 243\n",
    "# population = generate_initial_population(population_size, gene_length)\n",
    "# the_evaluate = evaluate_population(population)\n",
    "# print(\"最大值是:\", max(the_evaluate))\n",
    "# print(\"最小值是:\", min(the_evaluate))\n",
    "# print(the_evaluate)\n"
   ]
  },
  {
   "cell_type": "code",
   "execution_count": null,
   "metadata": {},
   "outputs": [],
   "source": [
    "# # 一些随机适应度分数\n",
    "# fitness_scores = [-647.68, -295.54, -529.48, -101.8, -31.71, 43.69, 48.83, -11.83, -255.42, -37.43, -797.93, -115.25, 59.14, 23.5, 36.3, -171.36, 47.58, 41.02, -190.43, -14.61, -13.46, 7.61, 38.88, -615.43, -218.29, -173.09, -395.74, -340.21, 72.54, -606.54, -278.02, -267.55, -648.59, -345.14, -119.84, -190.65, -380.34, -330.44, -107.84, -341.26, -428.41, -161.18, -182.49, -276.48, -578.84, 48.66, -247.67, -64.3, 31.69, -303.32, -5.99, -440.51, -654.0, -13.55, 12.96, 6.54, -115.97, 6.62, 24.04, -479.52, -384.65, -120.81, 34.38, -127.86, -472.13, -179.34, -420.93, -735.34, -425.79, 42.28, -691.46, -327.4, 36.32, -358.87, -383.28, -841.57, -374.67, -560.43, -662.94, 48.93, -181.62, -454.81, 35.75, -356.95, -14.72, -400.59, -337.36, -198.44, -389.21, -112.53, -47.64, 38.75, -223.42, -620.48, -92.05, 49.23, -267.41, -176.07, -138.49, -576.0, 31.39, -263.51, -276.9, -298.66, -434.16, -341.72, -13.13, -10.29, -391.32, -64.44, -165.94, -287.39, -36.65, -44.58, 42.41, 21.52, -10.36, -98.09, -546.6, -38.09, -332.77, -490.19, -79.86, -312.31, -704.5, -257.58, -537.61, -629.4, -65.3, -347.78, -418.64, -540.95, -453.3, -66.86, 55.35, -78.31, 51.37, 7.42, -113.55, -677.0, 18.26, -158.36, -607.69, -302.58, -368.94, -19.77, 37.28, 62.94, -460.46, -399.42, -427.29, -50.21, -152.22, -651.25, -616.77, -3.83, 18.14, -9.64, -310.53, -477.41, -18.22, -780.23, 16.41, -219.73, -54.95, -354.92, -78.57, -106.52, -164.53, -29.52, -251.71, -345.24, -273.8, -697.06, -655.42, -57.5, -98.71, -459.13, -86.34, -394.5, -102.69, -85.84, 40.75, -106.35, -358.26, -566.49, -59.81, -3.34, -150.71, -115.31, -153.29, -622.33, -264.32, -413.52, -56.18, -518.78, -108.8, -502.96, 44.94, -490.79]\n",
    "\n",
    "# print(\"原始适应度分数：\", fitness_scores)\n",
    "\n",
    "# # 归一化适应度分数\n",
    "# normalized_scores = normalize_fitness_scores(fitness_scores)\n",
    "# print(\"归一化后的适应度分数：\", normalized_scores)\n",
    "\n",
    "# # 检查归一化后的分数总和是否为1\n",
    "# print(\"归一化后的分数总和：\", sum(normalized_scores))\n",
    "\n",
    "# # 根据适应度计算选择概率\n",
    "# selection_probabilities = normalized_scores / np.sum(normalized_scores)\n",
    "# print(\"归一化后的分数总和：\", selection_probabilities)"
   ]
  }
 ],
 "metadata": {
  "kernelspec": {
   "display_name": "GA",
   "language": "python",
   "name": "python3"
  },
  "language_info": {
   "codemirror_mode": {
    "name": "ipython",
    "version": 3
   },
   "file_extension": ".py",
   "mimetype": "text/x-python",
   "name": "python",
   "nbconvert_exporter": "python",
   "pygments_lexer": "ipython3",
   "version": "3.10.13"
  }
 },
 "nbformat": 4,
 "nbformat_minor": 2
}
